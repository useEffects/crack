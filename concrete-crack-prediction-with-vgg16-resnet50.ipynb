{
 "cells": [
  {
   "cell_type": "markdown",
   "id": "51f4a29e",
   "metadata": {
    "papermill": {
     "duration": 0.006084,
     "end_time": "2023-08-13T06:00:45.593753",
     "exception": false,
     "start_time": "2023-08-13T06:00:45.587669",
     "status": "completed"
    },
    "tags": []
   },
   "source": [
    "# Importing Dependencies and Declaring Global Variables\n",
    "\n",
    "### In this part we are going to install needed libraries and declare some variable needed for training and testing models."
   ]
  },
  {
   "cell_type": "code",
   "execution_count": null,
   "id": "2fc01e0b",
   "metadata": {
    "execution": {
     "iopub.execute_input": "2023-08-13T06:00:45.606093Z",
     "iopub.status.busy": "2023-08-13T06:00:45.605763Z",
     "iopub.status.idle": "2023-08-13T06:01:07.414691Z",
     "shell.execute_reply": "2023-08-13T06:01:07.413608Z"
    },
    "papermill": {
     "duration": 21.817814,
     "end_time": "2023-08-13T06:01:07.417232",
     "exception": false,
     "start_time": "2023-08-13T06:00:45.599418",
     "status": "completed"
    },
    "tags": []
   },
   "outputs": [],
   "source": [
    "from keras.applications import VGG16,ResNet50\n",
    "from keras import layers\n",
    "from keras.preprocessing.image import ImageDataGenerator\n",
    "import os\n",
    "from keras.applications.vgg16 import preprocess_input\n",
    "from keras.models import Sequential\n",
    "import tensorflow as tf\n",
    "import numpy as np\n",
    "from tqdm import tqdm\n",
    "import splitfolders\n",
    "import shutil\n",
    "import random\n",
    "\n",
    "NUM_CLASS = 2\n",
    "IMAGE_SIZE = 224\n",
    "BATCH_SIZE = 100\n",
    "EPOCHS = 2"
   ]
  },
  {
   "cell_type": "markdown",
   "id": "8516c87d",
   "metadata": {
    "papermill": {
     "duration": 0.005873,
     "end_time": "2023-08-13T06:01:07.429661",
     "exception": false,
     "start_time": "2023-08-13T06:01:07.423788",
     "status": "completed"
    },
    "tags": []
   },
   "source": [
    "# Data Collecting and Splitting\n",
    "\n",
    "### We are going to collect data from the kaggle dataset, and copy it into splitfolders and let split folders split it into 3 part inside the <code>data</code> folder. Next part is initialize the image data generator for easier training with image."
   ]
  },
  {
   "cell_type": "code",
   "execution_count": null,
   "id": "610ad2a4",
   "metadata": {
    "execution": {
     "iopub.execute_input": "2023-08-13T06:01:07.443500Z",
     "iopub.status.busy": "2023-08-13T06:01:07.442886Z",
     "iopub.status.idle": "2023-08-13T06:04:15.784439Z",
     "shell.execute_reply": "2023-08-13T06:04:15.783022Z"
    },
    "papermill": {
     "duration": 188.351001,
     "end_time": "2023-08-13T06:04:15.786710",
     "exception": false,
     "start_time": "2023-08-13T06:01:07.435709",
     "status": "completed"
    },
    "tags": []
   },
   "outputs": [],
   "source": [
    "file_path='dataset'\n",
    "splitted_folder='data'\n",
    "if not os.path.exists(splitted_folder):\n",
    "   os.makedirs(splitted_folder)\n",
    "else:\n",
    "  # Deleting an non-empty folder\n",
    "  shutil.rmtree(splitted_folder, ignore_errors=True)\n",
    "  print(\"Deleted '%s' directory successfully\" % splitted_folder)\n",
    "\n",
    "  os.makedirs(splitted_folder)\n",
    "\n",
    "def train_test_valid(images_folder=file_path,splitted_folder=splitted_folder):\n",
    "  input_folder = images_folder\n",
    "  output_folder = splitted_folder\n",
    "  splitfolders.ratio(input_folder,output_folder, seed = 1337,ratio=(.8, 0.1,0.1), group_prefix = None)\n",
    "train_test_valid()"
   ]
  },
  {
   "cell_type": "code",
   "execution_count": null,
   "id": "e78f958b",
   "metadata": {
    "execution": {
     "iopub.execute_input": "2023-08-13T06:04:15.981195Z",
     "iopub.status.busy": "2023-08-13T06:04:15.980817Z",
     "iopub.status.idle": "2023-08-13T06:04:17.815353Z",
     "shell.execute_reply": "2023-08-13T06:04:17.814430Z"
    },
    "papermill": {
     "duration": 1.93583,
     "end_time": "2023-08-13T06:04:17.817477",
     "exception": false,
     "start_time": "2023-08-13T06:04:15.881647",
     "status": "completed"
    },
    "tags": []
   },
   "outputs": [],
   "source": [
    "data_generator = ImageDataGenerator(\n",
    "    preprocessing_function=preprocess_input,\n",
    ")\n",
    "\n",
    "train_generator = data_generator.flow_from_directory(\n",
    "    'data/train',\n",
    "    target_size=(IMAGE_SIZE, IMAGE_SIZE),\n",
    "    batch_size=BATCH_SIZE,\n",
    "    class_mode='categorical')\n",
    "\n",
    "validation_generator = data_generator.flow_from_directory(\n",
    "    'data/val',\n",
    "    target_size=(IMAGE_SIZE, IMAGE_SIZE),\n",
    "    batch_size=BATCH_SIZE,\n",
    "    class_mode='categorical')\n",
    "\n",
    "test_generator = data_generator.flow_from_directory(\n",
    "    'data/test',\n",
    "    target_size=(IMAGE_SIZE, IMAGE_SIZE),\n",
    "    batch_size=BATCH_SIZE,\n",
    "    shuffle=False,\n",
    "    class_mode='categorical')\n",
    "\n",
    "steps_per_epoch_training = len(train_generator)\n",
    "steps_per_epoch_validation = len(validation_generator)\n",
    "steps_per_epoch_test = len(test_generator)"
   ]
  },
  {
   "cell_type": "markdown",
   "id": "77739b83",
   "metadata": {
    "papermill": {
     "duration": 0.096876,
     "end_time": "2023-08-13T06:04:18.007336",
     "exception": false,
     "start_time": "2023-08-13T06:04:17.910460",
     "status": "completed"
    },
    "tags": []
   },
   "source": [
    "# Model Training and Validation\n",
    "\n",
    "### Finally we are going to train VGG16 and ResNet50 pre-trained models"
   ]
  },
  {
   "cell_type": "code",
   "execution_count": null,
   "id": "b4251459",
   "metadata": {},
   "outputs": [],
   "source": [
    "import tensorflow as tf\n",
    "import os\n",
    "\n",
    "print(\"Num GPUs Available: \", len(tf.config.experimental.list_physical_devices('GPU')))\n",
    "os.environ[\"XLA_FLAGS\"] = '--xla_gpu_cuda_data_dir=\"/home/aprilia/anaconda3/envs/deeplearning\"'"
   ]
  },
  {
   "cell_type": "code",
   "execution_count": null,
   "id": "149f2c33",
   "metadata": {
    "execution": {
     "iopub.execute_input": "2023-08-13T06:04:18.196680Z",
     "iopub.status.busy": "2023-08-13T06:04:18.196335Z",
     "iopub.status.idle": "2023-08-13T06:04:23.500736Z",
     "shell.execute_reply": "2023-08-13T06:04:23.498223Z"
    },
    "papermill": {
     "duration": 5.40395,
     "end_time": "2023-08-13T06:04:23.504453",
     "exception": false,
     "start_time": "2023-08-13T06:04:18.100503",
     "status": "completed"
    },
    "scrolled": true,
    "tags": []
   },
   "outputs": [],
   "source": [
    "vgg16_model = Sequential()\n",
    "vgg16_model.add(VGG16(include_top=False, pooling='avg', weights='imagenet'))\n",
    "vgg16_model.add(layers.Dense(NUM_CLASS, activation='softmax'))\n",
    "\n",
    "# since pre-trained model already trained so we dont need to train it again\n",
    "vgg16_model.layers[0].trainable = False\n",
    "\n",
    "vgg16_model.compile(optimizer='adam', loss='categorical_crossentropy', metrics=['accuracy'])\n",
    "vgg16_model.summary()"
   ]
  },
  {
   "cell_type": "code",
   "execution_count": null,
   "id": "0fa2b454",
   "metadata": {
    "execution": {
     "iopub.execute_input": "2023-08-13T06:04:23.715946Z",
     "iopub.status.busy": "2023-08-13T06:04:23.715579Z",
     "iopub.status.idle": "2023-08-13T06:04:26.663641Z",
     "shell.execute_reply": "2023-08-13T06:04:26.662543Z"
    },
    "papermill": {
     "duration": 3.054589,
     "end_time": "2023-08-13T06:04:26.665989",
     "exception": false,
     "start_time": "2023-08-13T06:04:23.611400",
     "status": "completed"
    },
    "tags": []
   },
   "outputs": [],
   "source": [
    "resnet50_model = Sequential()\n",
    "resnet50_model.add(ResNet50(\n",
    "    include_top=False,\n",
    "    pooling='avg',\n",
    "    weights='imagenet',\n",
    "    ))\n",
    "resnet50_model.add(layers.Dense(NUM_CLASS, activation='softmax'))\n",
    "\n",
    "# since pre-trained model already trained so we dont need to train it again\n",
    "resnet50_model.layers[0].trainable = False\n",
    "\n",
    "resnet50_model.compile(optimizer='adam', loss='categorical_crossentropy', metrics=['accuracy'])\n",
    "resnet50_model.summary()"
   ]
  },
  {
   "cell_type": "code",
   "execution_count": null,
   "id": "322de4f7",
   "metadata": {
    "execution": {
     "iopub.execute_input": "2023-08-13T06:04:26.863702Z",
     "iopub.status.busy": "2023-08-13T06:04:26.863385Z",
     "iopub.status.idle": "2023-08-13T06:11:11.823056Z",
     "shell.execute_reply": "2023-08-13T06:11:11.821963Z"
    },
    "papermill": {
     "duration": 405.059431,
     "end_time": "2023-08-13T06:11:11.825561",
     "exception": false,
     "start_time": "2023-08-13T06:04:26.766130",
     "status": "completed"
    },
    "tags": []
   },
   "outputs": [],
   "source": [
    "vgg16_history = vgg16_model.fit_generator(\n",
    "    train_generator,\n",
    "    steps_per_epoch=steps_per_epoch_training,\n",
    "    epochs=EPOCHS,\n",
    "    validation_data=validation_generator,\n",
    "    validation_steps=steps_per_epoch_validation,\n",
    "    verbose=1,\n",
    ")"
   ]
  },
  {
   "cell_type": "code",
   "execution_count": null,
   "id": "9af77531",
   "metadata": {
    "execution": {
     "iopub.execute_input": "2023-08-13T06:11:12.124228Z",
     "iopub.status.busy": "2023-08-13T06:11:12.123852Z",
     "iopub.status.idle": "2023-08-13T06:15:31.364922Z",
     "shell.execute_reply": "2023-08-13T06:15:31.363888Z"
    },
    "papermill": {
     "duration": 259.6003,
     "end_time": "2023-08-13T06:15:31.574967",
     "exception": false,
     "start_time": "2023-08-13T06:11:11.974667",
     "status": "completed"
    },
    "tags": []
   },
   "outputs": [],
   "source": [
    "resnet50_history = resnet50_model.fit_generator(\n",
    "    train_generator,\n",
    "    steps_per_epoch=steps_per_epoch_training,\n",
    "    epochs=EPOCHS,\n",
    "    validation_data=validation_generator,\n",
    "    validation_steps=steps_per_epoch_validation,\n",
    "    verbose=1,\n",
    ")"
   ]
  },
  {
   "cell_type": "code",
   "execution_count": null,
   "id": "4ad0f120",
   "metadata": {
    "execution": {
     "iopub.execute_input": "2023-08-13T06:15:31.972288Z",
     "iopub.status.busy": "2023-08-13T06:15:31.971898Z",
     "iopub.status.idle": "2023-08-13T06:15:32.557601Z",
     "shell.execute_reply": "2023-08-13T06:15:32.556585Z"
    },
    "papermill": {
     "duration": 0.785517,
     "end_time": "2023-08-13T06:15:32.560381",
     "exception": false,
     "start_time": "2023-08-13T06:15:31.774864",
     "status": "completed"
    },
    "tags": []
   },
   "outputs": [],
   "source": [
    "vgg16_model.save('classifier_vgg16_model.h5')\n",
    "resnet50_model.save('classifier_resnet50_model.h5')"
   ]
  },
  {
   "cell_type": "markdown",
   "id": "915acc79",
   "metadata": {
    "papermill": {
     "duration": 0.196487,
     "end_time": "2023-08-13T06:15:33.009706",
     "exception": false,
     "start_time": "2023-08-13T06:15:32.813219",
     "status": "completed"
    },
    "tags": []
   },
   "source": [
    "# Model Testing\n",
    "\n",
    "### Final part is testing our model how it perform with data that it not has been trained on"
   ]
  },
  {
   "cell_type": "code",
   "execution_count": null,
   "id": "074e0421",
   "metadata": {
    "execution": {
     "iopub.execute_input": "2023-08-13T06:15:33.399599Z",
     "iopub.status.busy": "2023-08-13T06:15:33.399201Z",
     "iopub.status.idle": "2023-08-13T06:15:36.180760Z",
     "shell.execute_reply": "2023-08-13T06:15:36.179740Z"
    },
    "papermill": {
     "duration": 2.980929,
     "end_time": "2023-08-13T06:15:36.183222",
     "exception": false,
     "start_time": "2023-08-13T06:15:33.202293",
     "status": "completed"
    },
    "tags": []
   },
   "outputs": [],
   "source": [
    "resnet = tf.keras.models.load_model('classifier_resnet50_model.h5')\n",
    "vgg = tf.keras.models.load_model('classifier_vgg16_model.h5')"
   ]
  },
  {
   "cell_type": "markdown",
   "id": "85066e6d",
   "metadata": {
    "papermill": {
     "duration": 0.194257,
     "end_time": "2023-08-13T06:15:36.570344",
     "exception": false,
     "start_time": "2023-08-13T06:15:36.376087",
     "status": "completed"
    },
    "tags": []
   },
   "source": [
    "Print model accuracy"
   ]
  },
  {
   "cell_type": "code",
   "execution_count": null,
   "id": "086cb1dc",
   "metadata": {
    "execution": {
     "iopub.execute_input": "2023-08-13T06:15:36.960661Z",
     "iopub.status.busy": "2023-08-13T06:15:36.960304Z",
     "iopub.status.idle": "2023-08-13T06:16:10.777980Z",
     "shell.execute_reply": "2023-08-13T06:16:10.777043Z"
    },
    "papermill": {
     "duration": 34.212274,
     "end_time": "2023-08-13T06:16:10.978376",
     "exception": false,
     "start_time": "2023-08-13T06:15:36.766102",
     "status": "completed"
    },
    "tags": []
   },
   "outputs": [],
   "source": [
    "resnet_scores = resnet.evaluate_generator(test_generator)\n",
    "print(\"%s%s: %.2f%%\" % (\"resnet \",resnet.metrics_names[1], resnet_scores[1]*100))\n",
    "\n",
    "vgg_scores = vgg.evaluate_generator(test_generator)\n",
    "print(\"%s%s: %.2f%%\" % (\"vgg \",vgg.metrics_names[1], vgg_scores[1]*100))"
   ]
  },
  {
   "cell_type": "markdown",
   "id": "247c029a",
   "metadata": {
    "papermill": {
     "duration": 0.229024,
     "end_time": "2023-08-13T06:16:11.417774",
     "exception": false,
     "start_time": "2023-08-13T06:16:11.188750",
     "status": "completed"
    },
    "tags": []
   },
   "source": [
    "Predict test dataset"
   ]
  },
  {
   "cell_type": "code",
   "execution_count": null,
   "id": "6ea7ae2e",
   "metadata": {
    "execution": {
     "iopub.execute_input": "2023-08-13T06:16:11.808322Z",
     "iopub.status.busy": "2023-08-13T06:16:11.807923Z",
     "iopub.status.idle": "2023-08-13T06:16:45.139254Z",
     "shell.execute_reply": "2023-08-13T06:16:45.138268Z"
    },
    "papermill": {
     "duration": 33.52783,
     "end_time": "2023-08-13T06:16:45.141750",
     "exception": false,
     "start_time": "2023-08-13T06:16:11.613920",
     "status": "completed"
    },
    "tags": []
   },
   "outputs": [],
   "source": [
    "resnet_predict = resnet.predict_generator(test_generator,steps=steps_per_epoch_test,verbose=1)\n",
    "vgg_predict = vgg.predict_generator(test_generator,steps=steps_per_epoch_test,verbose=1)"
   ]
  },
  {
   "cell_type": "markdown",
   "id": "77842af3",
   "metadata": {
    "papermill": {
     "duration": 0.201056,
     "end_time": "2023-08-13T06:16:45.547912",
     "exception": false,
     "start_time": "2023-08-13T06:16:45.346856",
     "status": "completed"
    },
    "tags": []
   },
   "source": [
    "Print 10 random dataset prediction result"
   ]
  },
  {
   "cell_type": "code",
   "execution_count": null,
   "id": "8d902f2c",
   "metadata": {
    "execution": {
     "iopub.execute_input": "2023-08-13T06:16:46.133906Z",
     "iopub.status.busy": "2023-08-13T06:16:46.133244Z",
     "iopub.status.idle": "2023-08-13T06:16:46.152068Z",
     "shell.execute_reply": "2023-08-13T06:16:46.146694Z"
    },
    "papermill": {
     "duration": 0.318955,
     "end_time": "2023-08-13T06:16:46.155459",
     "exception": false,
     "start_time": "2023-08-13T06:16:45.836504",
     "status": "completed"
    },
    "tags": []
   },
   "outputs": [],
   "source": [
    "result_vgg = vgg_predict.argmax(axis=-1)\n",
    "for i in range(10):\n",
    "    if result_vgg[random.randint(0,4000)] == 0:\n",
    "        print(\"Negative\") \n",
    "    else:\n",
    "        print(\"Positive\")\n"
   ]
  },
  {
   "cell_type": "code",
   "execution_count": null,
   "id": "ce201de2",
   "metadata": {
    "execution": {
     "iopub.execute_input": "2023-08-13T06:16:46.770467Z",
     "iopub.status.busy": "2023-08-13T06:16:46.770031Z",
     "iopub.status.idle": "2023-08-13T06:16:46.779026Z",
     "shell.execute_reply": "2023-08-13T06:16:46.778205Z"
    },
    "papermill": {
     "duration": 0.316783,
     "end_time": "2023-08-13T06:16:46.788310",
     "exception": false,
     "start_time": "2023-08-13T06:16:46.471527",
     "status": "completed"
    },
    "tags": []
   },
   "outputs": [],
   "source": [
    "result_resnet = resnet_predict.argmax(axis=-1)\n",
    "for i in range(10):\n",
    "    if result_resnet[random.randint(0,4000)] == 0:\n",
    "        print(\"Negative\") \n",
    "    else:\n",
    "        print(\"Positive\")\n"
   ]
  }
 ],
 "metadata": {
  "kernelspec": {
   "display_name": "Python 3",
   "language": "python",
   "name": "python3"
  },
  "language_info": {
   "codemirror_mode": {
    "name": "ipython",
    "version": 3
   },
   "file_extension": ".py",
   "mimetype": "text/x-python",
   "name": "python",
   "nbconvert_exporter": "python",
   "pygments_lexer": "ipython3",
   "version": "3.10.12"
  },
  "papermill": {
   "default_parameters": {},
   "duration": 976.454961,
   "end_time": "2023-08-13T06:16:51.434132",
   "environment_variables": {},
   "exception": null,
   "input_path": "__notebook__.ipynb",
   "output_path": "__notebook__.ipynb",
   "parameters": {},
   "start_time": "2023-08-13T06:00:34.979171",
   "version": "2.4.0"
  }
 },
 "nbformat": 4,
 "nbformat_minor": 5
}
